{
 "cells": [
  {
   "cell_type": "code",
   "execution_count": 1,
   "metadata": {
    "collapsed": true,
    "scrolled": true
   },
   "outputs": [],
   "source": [
    "import numpy as np\n",
    "from sklearn import linear_model\n",
    "import sklearn.model_selection as mdsl\n",
    "from sklearn.model_selection import cross_validate"
   ]
  },
  {
   "cell_type": "code",
   "execution_count": 4,
   "metadata": {
    "collapsed": true
   },
   "outputs": [],
   "source": [
    "data2 = np.loadtxt(\"ds-boot-2.csv\", delimiter='\\t', skiprows=1)"
   ]
  },
  {
   "cell_type": "code",
   "execution_count": 5,
   "metadata": {
    "collapsed": true
   },
   "outputs": [],
   "source": [
    "def bstrapped_param(p_func, sample, B):\n",
    "    n = sample.size\n",
    "    strapped_samples = np.random.choice(sample, (B,n))\n",
    "#     print(np.apply_along_axis(p_func, 1, strapped_samples).shape)\n",
    "#     print(np.apply_along_axis(p_func, 1, strapped_samples))\n",
    "    strapped_params = np.apply_along_axis(p_func, 1, strapped_samples)\n",
    "    strp_params_mean = strapped_params.mean()\n",
    "    strp_params_std = strapped_params.std()\n",
    "    print('Evaluated parameter is {:.3f}\\nIts MSE is {:.3f}'.format(strp_params_mean, strp_params_std))\n",
    "#     print(np.mean(strapped_samples[1,:]))"
   ]
  },
  {
   "cell_type": "code",
   "execution_count": 6,
   "metadata": {
    "collapsed": true
   },
   "outputs": [],
   "source": [
    "B=5000"
   ]
  },
  {
   "cell_type": "code",
   "execution_count": 7,
   "metadata": {},
   "outputs": [
    {
     "name": "stdout",
     "output_type": "stream",
     "text": [
      "Evaluated parameter is 8.302\n",
      "Its MSE is 0.275\n"
     ]
    }
   ],
   "source": [
    "bstrapped_param(np.median, data2[:,-3], B)"
   ]
  },
  {
   "cell_type": "code",
   "execution_count": 8,
   "metadata": {
    "collapsed": true
   },
   "outputs": [],
   "source": [
    "def create_B_sample_indices(dataset, B):\n",
    "    m = dataset.shape[0]\n",
    "    n = dataset.shape[1]\n",
    "    result_indices = np.random.choice(m, (B,m))\n",
    "    return result_indices"
   ]
  },
  {
   "cell_type": "code",
   "execution_count": 50,
   "metadata": {
    "collapsed": true
   },
   "outputs": [],
   "source": [
    "def train_B_regressions(dataset, B):\n",
    "    indices_2d = create_B_sample_indices(dataset,B)\n",
    "    m = dataset.shape[0]\n",
    "    n = dataset.shape[1]-6+1\n",
    "    result = np.empty((B,5,n))\n",
    "#     sigmas  = np.empty(B)\n",
    "    regr = linear_model.LinearRegression(normalize=True)\n",
    "    i=0\n",
    "    for line in indices_2d:\n",
    "#         print(line)\n",
    "#         print(dataset[line][:,1:-5].shape)\n",
    "        regr.fit(dataset[line][:,1:-5], dataset[line][:,-5:])\n",
    "        coefs = regr.coef_\n",
    "#         print(coefs.shape)\n",
    "        result[i] = np.insert(coefs,0, regr.intercept_, axis=1)\n",
    "#         sigmas[i] = np.std(regr.predict(dataset[line][:,1:-5])[:,1]-dataset[line][:,-4])\n",
    "#         result = np.append(result, coefs)\n",
    "        i += 1\n",
    "#     return result, sigmas\n",
    "    return result"
   ]
  },
  {
   "cell_type": "code",
   "execution_count": 103,
   "metadata": {
    "collapsed": true
   },
   "outputs": [],
   "source": [
    "def analyze_coefs(coefs):\n",
    "    for value in range(coefs.shape[1]):\n",
    "        print('Target {}:'.format(value))\n",
    "        for feature_num in range(coefs.shape[2]):\n",
    "            print('\\tFeature {:d}:\\n\\t\\t95%-Confidence interval: {:.3f} +/- {:.3f}\\n\\t\\tRange: {:.3f} - {:.3f}\\n\\t\\t% of outliers: {:.2f}'.format(\n",
    "                feature_num+1, \n",
    "                coefs[:,value,feature_num].mean(),\n",
    "                coefs[:,value,feature_num].std(),\n",
    "                coefs[:,value,feature_num].min(), \n",
    "                coefs[:,value,feature_num].max(), \n",
    "                coefs[:,value,feature_num][(coefs[:,value,feature_num]>3*coefs[:,value,feature_num].std()) | (coefs[:,value,feature_num]<-3*coefs[:,value,feature_num].std())].size  /B                ))"
   ]
  },
  {
   "cell_type": "code",
   "execution_count": 100,
   "metadata": {
    "collapsed": true
   },
   "outputs": [],
   "source": [
    "B=5000"
   ]
  },
  {
   "cell_type": "code",
   "execution_count": 101,
   "metadata": {},
   "outputs": [
    {
     "name": "stdout",
     "output_type": "stream",
     "text": [
      "Target 0:\n",
      "\tFeature 1:\n",
      "\t\t95%-Confidence interval: -0.015 +/- 0.311\n",
      "\t\tRange: -9.714 - 3.118\n",
      "\t\t% of outliers: 0.00\n",
      "\tFeature 2:\n",
      "\t\t95%-Confidence interval: 0.336 +/- 0.518\n",
      "\t\tRange: -3.990 - 7.500\n",
      "\t\t% of outliers: 0.03\n",
      "\tFeature 3:\n",
      "\t\t95%-Confidence interval: 0.007 +/- 0.267\n",
      "\t\tRange: -1.601 - 4.115\n",
      "\t\t% of outliers: 0.01\n",
      "\tFeature 4:\n",
      "\t\t95%-Confidence interval: -0.112 +/- 0.524\n",
      "\t\tRange: -4.870 - 21.722\n",
      "\t\t% of outliers: 0.01\n",
      "\tFeature 5:\n",
      "\t\t95%-Confidence interval: 0.600 +/- 0.550\n",
      "\t\tRange: -18.679 - 3.835\n",
      "\t\t% of outliers: 0.02\n",
      "\tFeature 6:\n",
      "\t\t95%-Confidence interval: -0.282 +/- 0.381\n",
      "\t\tRange: -5.626 - 3.409\n",
      "\t\t% of outliers: 0.01\n",
      "\tFeature 7:\n",
      "\t\t95%-Confidence interval: 0.257 +/- 0.539\n",
      "\t\tRange: -4.486 - 11.459\n",
      "\t\t% of outliers: 0.01\n",
      "\tFeature 8:\n",
      "\t\t95%-Confidence interval: -0.423 +/- 0.610\n",
      "\t\tRange: -7.778 - 14.709\n",
      "\t\t% of outliers: 0.02\n",
      "\tFeature 9:\n",
      "\t\t95%-Confidence interval: -0.097 +/- 0.433\n",
      "\t\tRange: -3.558 - 9.572\n",
      "\t\t% of outliers: 0.01\n",
      "\tFeature 10:\n",
      "\t\t95%-Confidence interval: -0.038 +/- 0.433\n",
      "\t\tRange: -2.739 - 11.995\n",
      "\t\t% of outliers: 0.01\n",
      "\tFeature 11:\n",
      "\t\t95%-Confidence interval: -0.174 +/- 0.369\n",
      "\t\tRange: -2.468 - 2.442\n",
      "\t\t% of outliers: 0.01\n",
      "\tFeature 12:\n",
      "\t\t95%-Confidence interval: 0.391 +/- 0.422\n",
      "\t\tRange: -2.151 - 2.967\n",
      "\t\t% of outliers: 0.03\n",
      "\tFeature 13:\n",
      "\t\t95%-Confidence interval: 0.041 +/- 0.652\n",
      "\t\tRange: -33.523 - 3.623\n",
      "\t\t% of outliers: 0.00\n",
      "\tFeature 14:\n",
      "\t\t95%-Confidence interval: 0.128 +/- 0.433\n",
      "\t\tRange: -5.309 - 3.462\n",
      "\t\t% of outliers: 0.01\n",
      "\tFeature 15:\n",
      "\t\t95%-Confidence interval: -0.026 +/- 0.327\n",
      "\t\tRange: -2.557 - 3.507\n",
      "\t\t% of outliers: 0.01\n",
      "\tFeature 16:\n",
      "\t\t95%-Confidence interval: -0.427 +/- 0.306\n",
      "\t\tRange: -5.091 - 2.123\n",
      "\t\t% of outliers: 0.05\n",
      "\tFeature 17:\n",
      "\t\t95%-Confidence interval: 0.182 +/- 0.214\n",
      "\t\tRange: -1.625 - 2.145\n",
      "\t\t% of outliers: 0.02\n",
      "\tFeature 18:\n",
      "\t\t95%-Confidence interval: 0.298 +/- 0.278\n",
      "\t\tRange: -5.575 - 3.163\n",
      "\t\t% of outliers: 0.03\n",
      "\tFeature 19:\n",
      "\t\t95%-Confidence interval: -0.070 +/- 0.289\n",
      "\t\tRange: -3.749 - 1.919\n",
      "\t\t% of outliers: 0.01\n",
      "\tFeature 20:\n",
      "\t\t95%-Confidence interval: -0.171 +/- 0.311\n",
      "\t\tRange: -2.922 - 9.479\n",
      "\t\t% of outliers: 0.01\n",
      "\tFeature 21:\n",
      "\t\t95%-Confidence interval: -0.165 +/- 0.304\n",
      "\t\tRange: -3.117 - 3.084\n",
      "\t\t% of outliers: 0.01\n",
      "\tFeature 22:\n",
      "\t\t95%-Confidence interval: 0.326 +/- 0.275\n",
      "\t\tRange: -1.585 - 3.290\n",
      "\t\t% of outliers: 0.04\n",
      "\tFeature 23:\n",
      "\t\t95%-Confidence interval: -0.015 +/- 0.312\n",
      "\t\tRange: -14.363 - 1.421\n",
      "\t\t% of outliers: 0.00\n",
      "\tFeature 24:\n",
      "\t\t95%-Confidence interval: 0.336 +/- 0.298\n",
      "\t\tRange: -14.012 - 2.053\n",
      "\t\t% of outliers: 0.01\n",
      "\tFeature 25:\n",
      "\t\t95%-Confidence interval: -0.219 +/- 0.345\n",
      "\t\tRange: -3.501 - 14.438\n",
      "\t\t% of outliers: 0.01\n",
      "\tFeature 26:\n",
      "\t\t95%-Confidence interval: 0.180 +/- 0.341\n",
      "\t\tRange: -9.737 - 4.334\n",
      "\t\t% of outliers: 0.01\n",
      "\tFeature 27:\n",
      "\t\t95%-Confidence interval: 0.061 +/- 0.396\n",
      "\t\tRange: -2.890 - 19.787\n",
      "\t\t% of outliers: 0.00\n",
      "\tFeature 28:\n",
      "\t\t95%-Confidence interval: -0.022 +/- 0.326\n",
      "\t\tRange: -2.168 - 11.956\n",
      "\t\t% of outliers: 0.01\n",
      "\tFeature 29:\n",
      "\t\t95%-Confidence interval: -0.144 +/- 0.327\n",
      "\t\tRange: -16.100 - 3.286\n",
      "\t\t% of outliers: 0.00\n",
      "Target 1:\n",
      "\tFeature 1:\n",
      "\t\t95%-Confidence interval: -0.011 +/- 0.343\n",
      "\t\tRange: -11.768 - 10.740\n",
      "\t\t% of outliers: 0.00\n",
      "\tFeature 2:\n",
      "\t\t95%-Confidence interval: -0.036 +/- 1.167\n",
      "\t\tRange: -56.705 - 26.119\n",
      "\t\t% of outliers: 0.01\n",
      "\tFeature 3:\n",
      "\t\t95%-Confidence interval: 0.111 +/- 0.426\n",
      "\t\tRange: -5.094 - 14.675\n",
      "\t\t% of outliers: 0.01\n",
      "\tFeature 4:\n",
      "\t\t95%-Confidence interval: -0.110 +/- 0.821\n",
      "\t\tRange: -30.219 - 8.648\n",
      "\t\t% of outliers: 0.01\n",
      "\tFeature 5:\n",
      "\t\t95%-Confidence interval: 0.250 +/- 1.215\n",
      "\t\tRange: -61.886 - 26.844\n",
      "\t\t% of outliers: 0.00\n",
      "\tFeature 6:\n",
      "\t\t95%-Confidence interval: 0.038 +/- 0.695\n",
      "\t\tRange: -7.056 - 29.021\n",
      "\t\t% of outliers: 0.00\n",
      "\tFeature 7:\n",
      "\t\t95%-Confidence interval: 0.449 +/- 1.220\n",
      "\t\tRange: -66.368 - 13.734\n",
      "\t\t% of outliers: 0.00\n",
      "\tFeature 8:\n",
      "\t\t95%-Confidence interval: 0.414 +/- 1.203\n",
      "\t\tRange: -17.974 - 63.078\n",
      "\t\t% of outliers: 0.01\n",
      "\tFeature 9:\n",
      "\t\t95%-Confidence interval: -0.411 +/- 1.073\n",
      "\t\tRange: -15.120 - 61.372\n",
      "\t\t% of outliers: 0.00\n",
      "\tFeature 10:\n",
      "\t\t95%-Confidence interval: -0.071 +/- 0.598\n",
      "\t\tRange: -15.696 - 6.397\n",
      "\t\t% of outliers: 0.01\n",
      "\tFeature 11:\n",
      "\t\t95%-Confidence interval: -0.047 +/- 0.835\n",
      "\t\tRange: -43.518 - 8.274\n",
      "\t\t% of outliers: 0.01\n",
      "\tFeature 12:\n",
      "\t\t95%-Confidence interval: 0.189 +/- 0.612\n",
      "\t\tRange: -6.226 - 6.784\n",
      "\t\t% of outliers: 0.02\n",
      "\tFeature 13:\n",
      "\t\t95%-Confidence interval: 0.074 +/- 0.975\n",
      "\t\tRange: -5.447 - 44.278\n",
      "\t\t% of outliers: 0.01\n",
      "\tFeature 14:\n",
      "\t\t95%-Confidence interval: 0.005 +/- 0.812\n",
      "\t\tRange: -31.869 - 6.376\n",
      "\t\t% of outliers: 0.01\n",
      "\tFeature 15:\n",
      "\t\t95%-Confidence interval: 0.198 +/- 0.593\n",
      "\t\tRange: -6.932 - 24.994\n",
      "\t\t% of outliers: 0.01\n",
      "\tFeature 16:\n",
      "\t\t95%-Confidence interval: -0.353 +/- 0.537\n",
      "\t\tRange: -3.527 - 14.429\n",
      "\t\t% of outliers: 0.01\n",
      "\tFeature 17:\n",
      "\t\t95%-Confidence interval: 0.181 +/- 0.528\n",
      "\t\tRange: -4.305 - 29.836\n",
      "\t\t% of outliers: 0.01\n",
      "\tFeature 18:\n",
      "\t\t95%-Confidence interval: 0.182 +/- 0.465\n",
      "\t\tRange: -2.801 - 20.311\n",
      "\t\t% of outliers: 0.01\n",
      "\tFeature 19:\n",
      "\t\t95%-Confidence interval: 0.011 +/- 0.524\n",
      "\t\tRange: -10.037 - 23.551\n",
      "\t\t% of outliers: 0.01\n",
      "\tFeature 20:\n",
      "\t\t95%-Confidence interval: -0.325 +/- 0.696\n",
      "\t\tRange: -37.549 - 2.829\n",
      "\t\t% of outliers: 0.00\n",
      "\tFeature 21:\n",
      "\t\t95%-Confidence interval: -0.141 +/- 0.593\n",
      "\t\tRange: -3.855 - 27.638\n",
      "\t\t% of outliers: 0.01\n",
      "\tFeature 22:\n",
      "\t\t95%-Confidence interval: 0.304 +/- 0.464\n",
      "\t\tRange: -14.151 - 8.082\n",
      "\t\t% of outliers: 0.01\n",
      "\tFeature 23:\n",
      "\t\t95%-Confidence interval: 0.198 +/- 0.485\n",
      "\t\tRange: -12.701 - 19.637\n",
      "\t\t% of outliers: 0.01\n",
      "\tFeature 24:\n",
      "\t\t95%-Confidence interval: -0.106 +/- 0.401\n",
      "\t\tRange: -3.664 - 18.205\n",
      "\t\t% of outliers: 0.01\n",
      "\tFeature 25:\n",
      "\t\t95%-Confidence interval: -0.029 +/- 0.538\n",
      "\t\tRange: -18.675 - 4.866\n",
      "\t\t% of outliers: 0.01\n",
      "\tFeature 26:\n",
      "\t\t95%-Confidence interval: 0.112 +/- 0.692\n",
      "\t\tRange: -6.949 - 33.618\n",
      "\t\t% of outliers: 0.01\n",
      "\tFeature 27:\n",
      "\t\t95%-Confidence interval: 0.235 +/- 0.576\n",
      "\t\tRange: -24.873 - 4.327\n",
      "\t\t% of outliers: 0.01\n",
      "\tFeature 28:\n",
      "\t\t95%-Confidence interval: -0.269 +/- 0.641\n",
      "\t\tRange: -27.876 - 7.117\n",
      "\t\t% of outliers: 0.01\n",
      "\tFeature 29:\n",
      "\t\t95%-Confidence interval: -0.209 +/- 0.432\n",
      "\t\tRange: -2.858 - 18.753\n",
      "\t\t% of outliers: 0.01\n",
      "Target 2:\n",
      "\tFeature 1:\n",
      "\t\t95%-Confidence interval: 0.008 +/- 0.152\n",
      "\t\tRange: -0.272 - 5.269\n",
      "\t\t% of outliers: 0.00\n",
      "\tFeature 2:\n",
      "\t\t95%-Confidence interval: 0.035 +/- 0.179\n",
      "\t\tRange: -1.936 - 7.126\n",
      "\t\t% of outliers: 0.01\n",
      "\tFeature 3:\n",
      "\t\t95%-Confidence interval: 0.031 +/- 0.077\n",
      "\t\tRange: -2.204 - 0.533\n",
      "\t\t% of outliers: 0.01\n",
      "\tFeature 4:\n",
      "\t\t95%-Confidence interval: 0.059 +/- 0.208\n",
      "\t\tRange: -11.645 - 2.879\n",
      "\t\t% of outliers: 0.00\n",
      "\tFeature 5:\n",
      "\t\t95%-Confidence interval: 0.085 +/- 0.226\n",
      "\t\tRange: -1.655 - 10.573\n",
      "\t\t% of outliers: 0.01\n",
      "\tFeature 6:\n",
      "\t\t95%-Confidence interval: 0.106 +/- 0.118\n",
      "\t\tRange: -3.623 - 2.899\n",
      "\t\t% of outliers: 0.02\n",
      "\tFeature 7:\n",
      "\t\t95%-Confidence interval: 0.004 +/- 0.200\n",
      "\t\tRange: -5.824 - 8.403\n",
      "\t\t% of outliers: 0.01\n",
      "\tFeature 8:\n",
      "\t\t95%-Confidence interval: 0.169 +/- 0.225\n",
      "\t\tRange: -8.091 - 2.192\n",
      "\t\t% of outliers: 0.01\n",
      "\tFeature 9:\n",
      "\t\t95%-Confidence interval: 0.136 +/- 0.171\n",
      "\t\tRange: -7.251 - 1.610\n",
      "\t\t% of outliers: 0.01\n",
      "\tFeature 10:\n",
      "\t\t95%-Confidence interval: 0.066 +/- 0.144\n",
      "\t\tRange: -6.422 - 1.089\n",
      "\t\t% of outliers: 0.01\n",
      "\tFeature 11:\n",
      "\t\t95%-Confidence interval: 0.045 +/- 0.129\n",
      "\t\tRange: -1.641 - 5.140\n",
      "\t\t% of outliers: 0.01\n",
      "\tFeature 12:\n",
      "\t\t95%-Confidence interval: 0.134 +/- 0.115\n",
      "\t\tRange: -0.984 - 1.563\n",
      "\t\t% of outliers: 0.03\n",
      "\tFeature 13:\n",
      "\t\t95%-Confidence interval: 0.129 +/- 0.291\n",
      "\t\tRange: -3.564 - 18.289\n",
      "\t\t% of outliers: 0.00\n",
      "\tFeature 14:\n",
      "\t\t95%-Confidence interval: 0.020 +/- 0.131\n",
      "\t\tRange: -1.081 - 4.075\n",
      "\t\t% of outliers: 0.01\n",
      "\tFeature 15:\n",
      "\t\t95%-Confidence interval: 0.046 +/- 0.098\n",
      "\t\tRange: -3.114 - 0.741\n",
      "\t\t% of outliers: 0.01\n",
      "\tFeature 16:\n",
      "\t\t95%-Confidence interval: 0.073 +/- 0.088\n",
      "\t\tRange: -1.676 - 2.361\n",
      "\t\t% of outliers: 0.02\n",
      "\tFeature 17:\n",
      "\t\t95%-Confidence interval: -0.005 +/- 0.078\n",
      "\t\tRange: -3.622 - 0.553\n",
      "\t\t% of outliers: 0.01\n",
      "\tFeature 18:\n",
      "\t\t95%-Confidence interval: -0.038 +/- 0.089\n",
      "\t\tRange: -2.299 - 3.242\n",
      "\t\t% of outliers: 0.01\n",
      "\tFeature 19:\n",
      "\t\t95%-Confidence interval: 0.003 +/- 0.088\n",
      "\t\tRange: -2.995 - 1.785\n",
      "\t\t% of outliers: 0.01\n",
      "\tFeature 20:\n",
      "\t\t95%-Confidence interval: 0.042 +/- 0.121\n",
      "\t\tRange: -5.222 - 4.502\n",
      "\t\t% of outliers: 0.00\n",
      "\tFeature 21:\n",
      "\t\t95%-Confidence interval: 0.017 +/- 0.093\n",
      "\t\tRange: -3.222 - 1.484\n",
      "\t\t% of outliers: 0.01\n",
      "\tFeature 22:\n",
      "\t\t95%-Confidence interval: -0.016 +/- 0.076\n",
      "\t\tRange: -1.436 - 0.623\n",
      "\t\t% of outliers: 0.01\n",
      "\tFeature 23:\n",
      "\t\t95%-Confidence interval: -0.033 +/- 0.131\n",
      "\t\tRange: -0.709 - 7.656\n",
      "\t\t% of outliers: 0.00\n",
      "\tFeature 24:\n",
      "\t\t95%-Confidence interval: 0.005 +/- 0.123\n",
      "\t\tRange: -0.649 - 7.720\n",
      "\t\t% of outliers: 0.00\n",
      "\tFeature 25:\n",
      "\t\t95%-Confidence interval: 0.027 +/- 0.136\n",
      "\t\tRange: -7.897 - 1.451\n",
      "\t\t% of outliers: 0.00\n",
      "\tFeature 26:\n",
      "\t\t95%-Confidence interval: -0.059 +/- 0.130\n",
      "\t\tRange: -3.854 - 5.519\n",
      "\t\t% of outliers: 0.01\n",
      "\tFeature 27:\n",
      "\t\t95%-Confidence interval: 0.001 +/- 0.167\n",
      "\t\tRange: -10.600 - 0.548\n",
      "\t\t% of outliers: 0.00\n",
      "\tFeature 28:\n",
      "\t\t95%-Confidence interval: -0.004 +/- 0.132\n",
      "\t\tRange: -6.726 - 3.243\n",
      "\t\t% of outliers: 0.00\n",
      "\tFeature 29:\n",
      "\t\t95%-Confidence interval: -0.019 +/- 0.134\n",
      "\t\tRange: -0.522 - 8.571\n",
      "\t\t% of outliers: 0.00\n",
      "Target 3:\n",
      "\tFeature 1:\n",
      "\t\t95%-Confidence interval: 0.003 +/- 0.069\n",
      "\t\tRange: -0.455 - 1.979\n",
      "\t\t% of outliers: 0.00\n",
      "\tFeature 2:\n",
      "\t\t95%-Confidence interval: -0.027 +/- 0.115\n",
      "\t\tRange: -5.481 - 0.840\n",
      "\t\t% of outliers: 0.01\n",
      "\tFeature 3:\n",
      "\t\t95%-Confidence interval: -0.003 +/- 0.060\n",
      "\t\tRange: -2.914 - 1.522\n",
      "\t\t% of outliers: 0.00\n",
      "\tFeature 4:\n",
      "\t\t95%-Confidence interval: 0.028 +/- 0.230\n",
      "\t\tRange: -15.387 - 0.870\n",
      "\t\t% of outliers: 0.00\n",
      "\tFeature 5:\n",
      "\t\t95%-Confidence interval: 0.033 +/- 0.225\n",
      "\t\tRange: -6.042 - 13.864\n",
      "\t\t% of outliers: 0.00\n",
      "\tFeature 6:\n",
      "\t\t95%-Confidence interval: 0.046 +/- 0.084\n",
      "\t\tRange: -0.572 - 3.600\n",
      "\t\t% of outliers: 0.01\n",
      "\tFeature 7:\n",
      "\t\t95%-Confidence interval: 0.049 +/- 0.162\n",
      "\t\tRange: -7.408 - 0.943\n",
      "\t\t% of outliers: 0.00\n",
      "\tFeature 8:\n",
      "\t\t95%-Confidence interval: -0.025 +/- 0.196\n",
      "\t\tRange: -10.786 - 6.011\n",
      "\t\t% of outliers: 0.00\n",
      "\tFeature 9:\n",
      "\t\t95%-Confidence interval: 0.064 +/- 0.144\n",
      "\t\tRange: -6.842 - 6.068\n",
      "\t\t% of outliers: 0.00\n",
      "\tFeature 10:\n",
      "\t\t95%-Confidence interval: 0.034 +/- 0.135\n",
      "\t\tRange: -8.480 - 0.697\n",
      "\t\t% of outliers: 0.00\n",
      "\tFeature 11:\n",
      "\t\t95%-Confidence interval: 0.027 +/- 0.087\n",
      "\t\tRange: -4.080 - 0.695\n",
      "\t\t% of outliers: 0.01\n",
      "\tFeature 12:\n",
      "\t\t95%-Confidence interval: -0.009 +/- 0.073\n",
      "\t\tRange: -0.649 - 1.772\n",
      "\t\t% of outliers: 0.01\n",
      "\tFeature 13:\n",
      "\t\t95%-Confidence interval: 0.002 +/- 0.339\n",
      "\t\tRange: -0.484 - 23.354\n",
      "\t\t% of outliers: 0.00\n",
      "\tFeature 14:\n",
      "\t\t95%-Confidence interval: -0.062 +/- 0.092\n",
      "\t\tRange: -3.315 - 2.908\n",
      "\t\t% of outliers: 0.01\n",
      "\tFeature 15:\n",
      "\t\t95%-Confidence interval: 0.039 +/- 0.063\n",
      "\t\tRange: -0.999 - 2.515\n",
      "\t\t% of outliers: 0.01\n",
      "\tFeature 16:\n",
      "\t\t95%-Confidence interval: -0.028 +/- 0.070\n",
      "\t\tRange: -0.539 - 2.967\n",
      "\t\t% of outliers: 0.01\n",
      "\tFeature 17:\n",
      "\t\t95%-Confidence interval: 0.022 +/- 0.055\n",
      "\t\tRange: -0.666 - 2.878\n",
      "\t\t% of outliers: 0.01\n",
      "\tFeature 18:\n",
      "\t\t95%-Confidence interval: -0.042 +/- 0.077\n",
      "\t\tRange: -0.326 - 4.177\n",
      "\t\t% of outliers: 0.00\n",
      "\tFeature 19:\n",
      "\t\t95%-Confidence interval: 0.034 +/- 0.062\n",
      "\t\tRange: -0.274 - 2.376\n",
      "\t\t% of outliers: 0.01\n",
      "\tFeature 20:\n",
      "\t\t95%-Confidence interval: 0.022 +/- 0.115\n",
      "\t\tRange: -6.836 - 0.435\n",
      "\t\t% of outliers: 0.00\n",
      "\tFeature 21:\n",
      "\t\t95%-Confidence interval: 0.032 +/- 0.066\n",
      "\t\tRange: -0.335 - 2.628\n",
      "\t\t% of outliers: 0.01\n",
      "\tFeature 22:\n",
      "\t\t95%-Confidence interval: 0.043 +/- 0.055\n",
      "\t\tRange: -1.768 - 0.721\n",
      "\t\t% of outliers: 0.02\n",
      "\tFeature 23:\n",
      "\t\t95%-Confidence interval: -0.045 +/- 0.148\n",
      "\t\tRange: -1.291 - 9.919\n",
      "\t\t% of outliers: 0.00\n",
      "\tFeature 24:\n",
      "\t\t95%-Confidence interval: 0.022 +/- 0.146\n",
      "\t\tRange: -0.272 - 10.050\n",
      "\t\t% of outliers: 0.00\n",
      "\tFeature 25:\n",
      "\t\t95%-Confidence interval: 0.009 +/- 0.153\n",
      "\t\tRange: -10.324 - 0.565\n",
      "\t\t% of outliers: 0.00\n",
      "\tFeature 26:\n",
      "\t\t95%-Confidence interval: -0.047 +/- 0.120\n",
      "\t\tRange: -0.713 - 7.143\n",
      "\t\t% of outliers: 0.00\n",
      "\tFeature 27:\n",
      "\t\t95%-Confidence interval: 0.014 +/- 0.198\n",
      "\t\tRange: -13.611 - 0.409\n",
      "\t\t% of outliers: 0.00\n",
      "\tFeature 28:\n",
      "\t\t95%-Confidence interval: 0.008 +/- 0.133\n",
      "\t\tRange: -8.455 - 0.375\n",
      "\t\t% of outliers: 0.00\n",
      "\tFeature 29:\n",
      "\t\t95%-Confidence interval: 0.003 +/- 0.159\n",
      "\t\tRange: -0.330 - 10.953\n",
      "\t\t% of outliers: 0.00\n",
      "Target 4:\n",
      "\tFeature 1:\n",
      "\t\t95%-Confidence interval: -0.007 +/- 0.195\n",
      "\t\tRange: -6.432 - 3.791\n",
      "\t\t% of outliers: 0.00\n",
      "\tFeature 2:\n",
      "\t\t95%-Confidence interval: 0.109 +/- 0.411\n",
      "\t\tRange: -15.715 - 9.586\n",
      "\t\t% of outliers: 0.01\n",
      "\tFeature 3:\n",
      "\t\t95%-Confidence interval: 0.045 +/- 0.165\n",
      "\t\tRange: -1.494 - 3.781\n",
      "\t\t% of outliers: 0.01\n",
      "\tFeature 4:\n",
      "\t\t95%-Confidence interval: -0.047 +/- 0.300\n",
      "\t\tRange: -8.886 - 2.266\n",
      "\t\t% of outliers: 0.01\n",
      "\tFeature 5:\n",
      "\t\t95%-Confidence interval: 0.320 +/- 0.403\n",
      "\t\tRange: -16.963 - 8.228\n",
      "\t\t% of outliers: 0.01\n",
      "\tFeature 6:\n",
      "\t\t95%-Confidence interval: -0.043 +/- 0.238\n",
      "\t\tRange: -2.650 - 8.064\n",
      "\t\t% of outliers: 0.01\n",
      "\tFeature 7:\n",
      "\t\t95%-Confidence interval: 0.233 +/- 0.426\n",
      "\t\tRange: -18.323 - 3.577\n",
      "\t\t% of outliers: 0.01\n",
      "\tFeature 8:\n",
      "\t\t95%-Confidence interval: 0.021 +/- 0.414\n",
      "\t\tRange: -5.425 - 17.117\n",
      "\t\t% of outliers: 0.01\n",
      "\tFeature 9:\n",
      "\t\t95%-Confidence interval: -0.099 +/- 0.361\n",
      "\t\tRange: -4.461 - 17.516\n",
      "\t\t% of outliers: 0.01\n",
      "\tFeature 10:\n",
      "\t\t95%-Confidence interval: -0.005 +/- 0.251\n",
      "\t\tRange: -4.606 - 2.548\n",
      "\t\t% of outliers: 0.01\n",
      "\tFeature 11:\n",
      "\t\t95%-Confidence interval: -0.057 +/- 0.294\n",
      "\t\tRange: -12.566 - 2.064\n",
      "\t\t% of outliers: 0.01\n",
      "\tFeature 12:\n",
      "\t\t95%-Confidence interval: 0.232 +/- 0.268\n",
      "\t\tRange: -1.574 - 2.635\n",
      "\t\t% of outliers: 0.02\n",
      "\tFeature 13:\n",
      "\t\t95%-Confidence interval: 0.079 +/- 0.345\n",
      "\t\tRange: -2.315 - 12.999\n",
      "\t\t% of outliers: 0.01\n",
      "\tFeature 14:\n",
      "\t\t95%-Confidence interval: 0.036 +/- 0.300\n",
      "\t\tRange: -8.679 - 2.390\n",
      "\t\t% of outliers: 0.01\n",
      "\tFeature 15:\n",
      "\t\t95%-Confidence interval: 0.074 +/- 0.220\n",
      "\t\tRange: -2.409 - 6.920\n",
      "\t\t% of outliers: 0.01\n",
      "\tFeature 16:\n",
      "\t\t95%-Confidence interval: -0.241 +/- 0.216\n",
      "\t\tRange: -1.260 - 4.890\n",
      "\t\t% of outliers: 0.02\n",
      "\tFeature 17:\n",
      "\t\t95%-Confidence interval: 0.122 +/- 0.183\n",
      "\t\tRange: -1.078 - 8.532\n",
      "\t\t% of outliers: 0.01\n",
      "\tFeature 18:\n",
      "\t\t95%-Confidence interval: 0.138 +/- 0.186\n",
      "\t\tRange: -1.113 - 6.275\n",
      "\t\t% of outliers: 0.01\n",
      "\tFeature 19:\n",
      "\t\t95%-Confidence interval: -0.011 +/- 0.195\n",
      "\t\tRange: -2.501 - 6.479\n",
      "\t\t% of outliers: 0.01\n",
      "\tFeature 20:\n",
      "\t\t95%-Confidence interval: -0.139 +/- 0.249\n",
      "\t\tRange: -11.176 - 0.919\n",
      "\t\t% of outliers: 0.01\n",
      "\tFeature 21:\n",
      "\t\t95%-Confidence interval: -0.088 +/- 0.222\n",
      "\t\tRange: -1.499 - 7.969\n",
      "\t\t% of outliers: 0.01\n",
      "\tFeature 22:\n",
      "\t\t95%-Confidence interval: 0.210 +/- 0.196\n",
      "\t\tRange: -4.890 - 2.797\n",
      "\t\t% of outliers: 0.02\n",
      "\tFeature 23:\n",
      "\t\t95%-Confidence interval: 0.033 +/- 0.179\n",
      "\t\tRange: -3.774 - 5.695\n",
      "\t\t% of outliers: 0.01\n",
      "\tFeature 24:\n",
      "\t\t95%-Confidence interval: 0.093 +/- 0.152\n",
      "\t\tRange: -1.283 - 5.440\n",
      "\t\t% of outliers: 0.01\n",
      "\tFeature 25:\n",
      "\t\t95%-Confidence interval: -0.076 +/- 0.208\n",
      "\t\tRange: -5.554 - 1.565\n",
      "\t\t% of outliers: 0.01\n",
      "\tFeature 26:\n",
      "\t\t95%-Confidence interval: 0.068 +/- 0.251\n",
      "\t\tRange: -2.333 - 10.238\n",
      "\t\t% of outliers: 0.01\n",
      "\tFeature 27:\n",
      "\t\t95%-Confidence interval: 0.096 +/- 0.216\n",
      "\t\tRange: -7.193 - 1.703\n",
      "\t\t% of outliers: 0.01\n",
      "\tFeature 28:\n",
      "\t\t95%-Confidence interval: -0.088 +/- 0.237\n",
      "\t\tRange: -8.096 - 2.517\n",
      "\t\t% of outliers: 0.01\n",
      "\tFeature 29:\n",
      "\t\t95%-Confidence interval: -0.118 +/- 0.165\n",
      "\t\tRange: -1.114 - 5.359\n",
      "\t\t% of outliers: 0.01\n"
     ]
    }
   ],
   "source": [
    "coefs = train_B_regressions(data2, B)\n",
    "analyze_coefs(coefs)"
   ]
  },
  {
   "cell_type": "code",
   "execution_count": 13,
   "metadata": {},
   "outputs": [
    {
     "name": "stdout",
     "output_type": "stream",
     "text": [
      "0.0578465509921\n",
      "11.2309787358\n",
      "0.0388896195414\n"
     ]
    }
   ],
   "source": [
    "coef_no = 11\n",
    "\n",
    "print(coefs[:,0,coef_no].mean())\n",
    "\n",
    "print(coefs[:,0,coef_no].max())\n",
    "\n",
    "print(coefs[:,0,coef_no].std()/coefs[:,0,coef_no].max())"
   ]
  },
  {
   "cell_type": "code",
   "execution_count": 89,
   "metadata": {},
   "outputs": [
    {
     "data": {
      "text/plain": [
       "-1.6653345369377348e-16"
      ]
     },
     "execution_count": 89,
     "metadata": {},
     "output_type": "execute_result"
    }
   ],
   "source": [
    "#orig\n",
    "#X_t[:,0].sum()"
   ]
  },
  {
   "cell_type": "code",
   "execution_count": 80,
   "metadata": {
    "collapsed": true
   },
   "outputs": [],
   "source": [
    "#X_t, y_t = data2[:,1:-5].copy(), data2[:,-5].copy()"
   ]
  },
  {
   "cell_type": "code",
   "execution_count": 92,
   "metadata": {},
   "outputs": [
    {
     "data": {
      "text/plain": [
       "LinearRegression(copy_X=True, fit_intercept=True, n_jobs=1, normalize=True)"
      ]
     },
     "execution_count": 92,
     "metadata": {},
     "output_type": "execute_result"
    }
   ],
   "source": [
    "regr = linear_model.LinearRegression(normalize=True)\n",
    "\n",
    "regr.fit(data2[:,1:-5], data2[:,-5:])"
   ]
  },
  {
   "cell_type": "code",
   "execution_count": 94,
   "metadata": {},
   "outputs": [
    {
     "data": {
      "text/plain": [
       "(5, 29)"
      ]
     },
     "execution_count": 94,
     "metadata": {},
     "output_type": "execute_result"
    }
   ],
   "source": [
    "t_coef = np.insert(regr.coef_,0,regr.intercept_,axis=1)\n",
    "# t_coef = np.insert(regr.coef_,0,regr.intercept_)\n",
    "t_coef.shape"
   ]
  },
  {
   "cell_type": "code",
   "execution_count": 97,
   "metadata": {},
   "outputs": [
    {
     "data": {
      "text/plain": [
       "array([-0.04561118,  0.35238786, -0.0872593 , -0.47204603,  1.12128335,\n",
       "       -0.32560952,  0.91660928, -1.07016296, -0.21037968, -0.18459108,\n",
       "       -0.34269019,  0.76401483,  0.04013402,  0.21971176, -0.13237054,\n",
       "       -0.80100357,  0.25559588,  0.57798811, -0.12112813, -0.41820161,\n",
       "       -0.25960643,  0.79350498, -0.11337128,  0.41039151, -0.3828399 ,\n",
       "        0.60313631,  0.13697149, -0.39762446, -0.10356152])"
      ]
     },
     "execution_count": 97,
     "metadata": {},
     "output_type": "execute_result"
    }
   ],
   "source": [
    "t_coef[0]"
   ]
  },
  {
   "cell_type": "code",
   "execution_count": 98,
   "metadata": {},
   "outputs": [
    {
     "data": {
      "text/plain": [
       "0.41803352816107664"
      ]
     },
     "execution_count": 98,
     "metadata": {},
     "output_type": "execute_result"
    }
   ],
   "source": [
    "np.std(regr.predict(data2[:,1:-5])[:,0]-data2[:,-5])"
   ]
  },
  {
   "cell_type": "code",
   "execution_count": 17,
   "metadata": {
    "collapsed": true
   },
   "outputs": [],
   "source": [
    "def perdict(x, coef):\n",
    "    return x.dot(coef)"
   ]
  },
  {
   "cell_type": "code",
   "execution_count": 55,
   "metadata": {
    "collapsed": true
   },
   "outputs": [],
   "source": [
    "t_no = 0\n",
    "t_data_x = np.insert(data2[:,1:-5].copy(), 0 ,1, axis=1)\n",
    "t_data_y = data2[:,t_no].copy()"
   ]
  },
  {
   "cell_type": "code",
   "execution_count": 56,
   "metadata": {},
   "outputs": [
    {
     "data": {
      "text/plain": [
       "(40, 29)"
      ]
     },
     "execution_count": 56,
     "metadata": {},
     "output_type": "execute_result"
    }
   ],
   "source": [
    "t_data_x.shape"
   ]
  },
  {
   "cell_type": "code",
   "execution_count": 60,
   "metadata": {},
   "outputs": [
    {
     "data": {
      "text/plain": [
       "0.41803352816107636"
      ]
     },
     "execution_count": 60,
     "metadata": {},
     "output_type": "execute_result"
    }
   ],
   "source": [
    "np.std(perdict(t_data_x, t_coef[0])-data2[:,-5])"
   ]
  },
  {
   "cell_type": "code",
   "execution_count": 43,
   "metadata": {
    "collapsed": true
   },
   "outputs": [],
   "source": [
    "scores = mdsl.cross_validate(regr, data2[:,1:-5], data2[:,-5], cv=5)"
   ]
  },
  {
   "cell_type": "code",
   "execution_count": 44,
   "metadata": {},
   "outputs": [
    {
     "data": {
      "text/plain": [
       "array([-30.23292015,  -0.13689516,  -1.43816752,  -2.36223534,  -1.85920685])"
      ]
     },
     "execution_count": 44,
     "metadata": {},
     "output_type": "execute_result"
    }
   ],
   "source": [
    "scores['test_score']"
   ]
  },
  {
   "cell_type": "code",
   "execution_count": null,
   "metadata": {
    "collapsed": true
   },
   "outputs": [],
   "source": []
  }
 ],
 "metadata": {
  "kernelspec": {
   "display_name": "Python 3",
   "language": "python",
   "name": "python3"
  },
  "language_info": {
   "codemirror_mode": {
    "name": "ipython",
    "version": 3
   },
   "file_extension": ".py",
   "mimetype": "text/x-python",
   "name": "python",
   "nbconvert_exporter": "python",
   "pygments_lexer": "ipython3",
   "version": "3.6.1"
  }
 },
 "nbformat": 4,
 "nbformat_minor": 2
}
