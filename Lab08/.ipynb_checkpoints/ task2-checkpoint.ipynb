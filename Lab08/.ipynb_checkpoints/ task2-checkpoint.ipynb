{
 "cells": [
  {
   "cell_type": "code",
   "execution_count": 54,
   "metadata": {
    "collapsed": true
   },
   "outputs": [],
   "source": [
    "import numpy as np\n",
    "import matplotlib.pyplot as plt\n",
    "from scipy.optimize import fmin_cg, fmin_ncg\n",
    "from scipy.optimize import minimize\n",
    "from sklearn.metrics import mean_squared_error, mean_squared_log_error"
   ]
  },
  {
   "cell_type": "code",
   "execution_count": 42,
   "metadata": {},
   "outputs": [],
   "source": [
    "data = np.loadtxt('ds-boot-1.csv', delimiter='\\t', skiprows=1)"
   ]
  },
  {
   "cell_type": "markdown",
   "metadata": {},
   "source": [
    "## Part1. Fitting the model\n",
    "$\\text{First, G-O S-model was trained}\n",
    "\\\\ \n",
    "\\mu(t) = a(1-e^{-bt}(1+bt))$"
   ]
  },
  {
   "cell_type": "markdown",
   "metadata": {},
   "source": [
    "Not being a typical target function, G-O involves some optimization problems. Those were worked around by using gradient descent twice, reducing the learning rate at the second step. Logarithmic cost function was used."
   ]
  },
  {
   "cell_type": "code",
   "execution_count": 293,
   "metadata": {
    "collapsed": true
   },
   "outputs": [],
   "source": [
    "def s_shape_NM(tht, X):\n",
    "    return 5500-5500*np.e**(-tht*X)*(1+tht*X)\n",
    "\n",
    "def s_shape(tht, X):\n",
    "    theta = tht.flatten()\n",
    "    return theta[0]-theta[0]*np.e**(-theta[1]*X)*(1+theta[1]*X)\n",
    "    #return 5500-5500*np.e**(-theta[1]*X)*(1+theta[1]*X)\n",
    "    \n",
    "def costJ_NM(theta, X, y):\n",
    "    m = y.size\n",
    "    y_loc = y #.reshape(m,1)\n",
    "    predicted = s_shape_NM(theta, X)\n",
    "    cost = ((predicted-y)**2).sum()/2/m\n",
    "    return cost\n",
    "    \n",
    "def costJ(theta, X, y):\n",
    "    m = y.size\n",
    "    y_loc = y #.reshape(m,1)\n",
    "    predicted = s_shape(theta, X)\n",
    "    cost = ((predicted-y)**2).sum()/2/m\n",
    "    return cost\n",
    "\n",
    "def log_costJ(theta, X, y):\n",
    "    m = y.size\n",
    "    y_loc = y #.reshape(m,1)\n",
    "    predicted = s_shape(theta, X)\n",
    "    cost = np.mean((np.log(1+y) - np.log(1+predicted))**2)\n",
    "    return cost\n",
    "\n",
    "def gradJ(theta, X, y):\n",
    "    theta_loc = theta.flatten()\n",
    "    grad = np.empty(theta.size)\n",
    "    a = theta_loc[0]\n",
    "    b = theta_loc[1]\n",
    "    grad[0] = ((1-np.e**(-b*X)*(1+b*X))*(s_shape(theta,X)-y)).sum()/m\n",
    "    grad[1] = (a*X**2*b*np.e**(-b*X)*(s_shape(theta,X)-y)).sum()/m\n",
    "    return grad\n",
    "\n",
    "def log_gradJ(theta, X, y):\n",
    "    theta_loc = theta.flatten()\n",
    "    grad = np.empty(theta.size)\n",
    "    a = theta_loc[0]\n",
    "    term1 = np.log(1+y)-np.log(1+s_shape(theta_loc,X))\n",
    "    term2 = -s_shape(theta_loc,X)/a/(1+s_shape(theta_loc,X))\n",
    "    grad[0] = 2*np.mean(term1*term2)\n",
    "    b = theta_loc[1]\n",
    "    term3 = -1/(1+s_shape(theta_loc,X))\n",
    "    term4 = a*b*X**2*np.e**(-b*X)\n",
    "    grad[1] = 2*np.mean(term1*term3*term4)\n",
    "#     print(term1)\n",
    "#     print(term2)\n",
    "#     print(term3)\n",
    "#     print(term4)\n",
    "    return grad\n",
    "\n",
    "def grad_descent(cost_func, grad_func, x, y, theta_init, alpha1, alpha2, epsilon, max_iters=1500):\n",
    "    n = theta_init.size\n",
    "    theta = theta_init.copy()\n",
    "    p_cost = cost_func(theta, x,y) + epsilon\n",
    "#     print(p_cost)\n",
    "    for i in range(max_iters):\n",
    "        c_cost = cost_func(theta,x,y)\n",
    "        if c_cost > p_cost - epsilon:\n",
    "#             print('Convergence @ theta = {}'.format(theta))\n",
    "#             print('Cost function value = {}'.format(c_cost))\n",
    "#             print('Number of iterations: {}'.format(i))\n",
    "            return theta\n",
    "        grad = grad_func(theta,x,y)\n",
    "        theta[0] = theta[0] - alpha1*grad[0]\n",
    "        theta[1] = theta[1] - alpha2*grad[1]\n",
    "        \n",
    "#     print('Failed to converge')\n",
    "#     print('Current theta = {}'.format(theta))\n",
    "#     print('Cost function value = {}'.format(c_cost))\n",
    "    return theta  "
   ]
  },
  {
   "cell_type": "code",
   "execution_count": 43,
   "metadata": {
    "collapsed": true
   },
   "outputs": [],
   "source": [
    "X = data[:,0]\n",
    "y = data[:,2]\n",
    "y_pred = s_shape(theta_init, X)"
   ]
  },
  {
   "cell_type": "markdown",
   "metadata": {},
   "source": [
    "### Cost function versus b parameter. The chart illustrates non-convexity of the cost function"
   ]
  },
  {
   "cell_type": "code",
   "execution_count": 58,
   "metadata": {},
   "outputs": [
    {
     "data": {
      "image/png": "[encoded data removed]",
      "text/plain": [
       "<matplotlib.figure.Figure at 0x7fd1aa858cc0>"
      ]
     },
     "metadata": {},
     "output_type": "display_data"
    }
   ],
   "source": [
    "x = np.linspace(0,.1,100).reshape(100,1)\n",
    "gr = np.insert(x,0,5000,axis=1)\n",
    "grad = [log_costJ(x, data[:,0], data[:,2]) for x in gr]\n",
    "plt.plot(x,grad)\n",
    "plt.grid()\n",
    "plt.show()"
   ]
  },
  {
   "cell_type": "markdown",
   "metadata": {},
   "source": [
    "### One of the difficulties with optimisation was adequate initialisation of parameter values."
   ]
  },
  {
   "cell_type": "code",
   "execution_count": 225,
   "metadata": {
    "collapsed": true
   },
   "outputs": [],
   "source": [
    "theta_init = np.array([60, .01])\n",
    "m = data.shape[0]"
   ]
  },
  {
   "cell_type": "code",
   "execution_count": 166,
   "metadata": {
    "collapsed": true
   },
   "outputs": [
    {
     "name": "stdout",
     "output_type": "stream",
     "text": [
      "Warning: Desired error not necessarily achieved due to precision loss.\n",
      "         Current function value: 2.729987\n",
      "         Iterations: 6\n",
      "         Function evaluations: 72\n",
      "         Gradient evaluations: 55\n",
      "[  5.38803356e+02   1.33570457e-02]\n"
     ]
    },
    {
     "name": "stderr",
     "output_type": "stream",
     "text": [
      "/opt/anaconda3/lib/python3.6/site-packages/ipykernel_launcher.py:6: RuntimeWarning: overflow encountered in power\n",
      "  \n",
      "/opt/anaconda3/lib/python3.6/site-packages/ipykernel_launcher.py:6: RuntimeWarning: overflow encountered in multiply\n",
      "  \n",
      "/opt/anaconda3/lib/python3.6/site-packages/ipykernel_launcher.py:44: RuntimeWarning: invalid value encountered in true_divide\n",
      "/opt/anaconda3/lib/python3.6/site-packages/ipykernel_launcher.py:48: RuntimeWarning: overflow encountered in power\n",
      "/opt/anaconda3/lib/python3.6/site-packages/ipykernel_launcher.py:48: RuntimeWarning: overflow encountered in multiply\n",
      "/opt/anaconda3/lib/python3.6/site-packages/ipykernel_launcher.py:49: RuntimeWarning: invalid value encountered in multiply\n",
      "/opt/anaconda3/lib/python3.6/site-packages/ipykernel_launcher.py:6: RuntimeWarning: overflow encountered in power\n",
      "  \n",
      "/opt/anaconda3/lib/python3.6/site-packages/ipykernel_launcher.py:6: RuntimeWarning: overflow encountered in multiply\n",
      "  \n",
      "/opt/anaconda3/lib/python3.6/site-packages/ipykernel_launcher.py:44: RuntimeWarning: invalid value encountered in true_divide\n",
      "/opt/anaconda3/lib/python3.6/site-packages/ipykernel_launcher.py:48: RuntimeWarning: overflow encountered in power\n",
      "/opt/anaconda3/lib/python3.6/site-packages/ipykernel_launcher.py:48: RuntimeWarning: overflow encountered in multiply\n",
      "/opt/anaconda3/lib/python3.6/site-packages/ipykernel_launcher.py:49: RuntimeWarning: invalid value encountered in multiply\n",
      "/opt/anaconda3/lib/python3.6/site-packages/ipykernel_launcher.py:6: RuntimeWarning: overflow encountered in power\n",
      "  \n",
      "/opt/anaconda3/lib/python3.6/site-packages/ipykernel_launcher.py:6: RuntimeWarning: overflow encountered in multiply\n",
      "  \n"
     ]
    }
   ],
   "source": [
    "result = fmin_cg(log_costJ, theta_init, fprime=log_gradJ, args=(data[:,0], data[:,2]), gtol=1e-100)\n",
    "print(result)"
   ]
  },
  {
   "cell_type": "code",
   "execution_count": 226,
   "metadata": {
    "scrolled": true
   },
   "outputs": [
    {
     "name": "stdout",
     "output_type": "stream",
     "text": [
      "[  5.50000000e+03   2.99032211e-03]\n"
     ]
    }
   ],
   "source": [
    "result = minimize(costJ_NM, 0.1, method='Nelder-Mead', args=(data[:,0], data[:,2]))\n",
    "result = result.x\n",
    "result = np.array([5500,result])\n",
    "print(result)"
   ]
  },
  {
   "cell_type": "code",
   "execution_count": 228,
   "metadata": {},
   "outputs": [
    {
     "name": "stdout",
     "output_type": "stream",
     "text": [
      "13.7045034823\n",
      "Failed to converge\n",
      "Current theta = [[  4.63288312e+03]\n",
      " [  2.37948830e-03]]\n",
      "Cost function value = 0.13182234818129002\n"
     ]
    }
   ],
   "source": [
    "result = grad_descent(log_costJ, log_gradJ, X, y, theta_init, 50000, 1e-5, epsilon=1e-20, max_iters=50000)"
   ]
  },
  {
   "cell_type": "code",
   "execution_count": 229,
   "metadata": {},
   "outputs": [
    {
     "name": "stdout",
     "output_type": "stream",
     "text": [
      "0.165748520754\n",
      "Failed to converge\n",
      "Current theta = [[  7.58051120e+03]\n",
      " [  2.01586609e-03]]\n",
      "Cost function value = 0.07464449362407696\n"
     ]
    }
   ],
   "source": [
    "result = grad_descent(log_costJ, log_gradJ, X, y, result, 500000, 1e-8, epsilon=1e-20, max_iters=5000)"
   ]
  },
  {
   "cell_type": "code",
   "execution_count": 313,
   "metadata": {},
   "outputs": [
    {
     "data": {
      "image/png": "[encoded data removed]",
      "text/plain": [
       "<matplotlib.figure.Figure at 0x7fd1aa477f28>"
      ]
     },
     "metadata": {},
     "output_type": "display_data"
    }
   ],
   "source": [
    "fig = plt.figure()\n",
    "\n",
    "ax = plt.axes()\n",
    "ax.grid()\n",
    "ax.plot(data[:,0], data[:,2])\n",
    "ax.plot(data[:,0], s_shape(result, data[:,0]), 'r')\n",
    "ax.plot(data[:,0], s_shape(coefs[0], data[:,0]), 'r')\n",
    "ax.plot(data[:,0], s_shape(coefs[250], data[:,0]), 'g')\n",
    "ax.plot(data[:,0], s_shape(coefs[500], data[:,0]), 'y')\n",
    "ax.plot(data[:,0], s_shape(coefs[750], data[:,0]), 'black')\n",
    "ax.plot(data[:,0], s_shape(coefs[999], data[:,0]), 'c')\n",
    "\n",
    "plt.show()"
   ]
  },
  {
   "cell_type": "markdown",
   "metadata": {},
   "source": [
    "## Part 2"
   ]
  },
  {
   "cell_type": "markdown",
   "metadata": {},
   "source": [
    "The procedure of fitting the model was repeated B=1000 times for each of the bootstrapped subsamples. The analysis of the parameters shows that their values sit closely together, which means that for a single instance of model fitting, the result almost does not depend on the period of execution time t, at which measures of the number of defects are taken. This result, however, does not allow to make any other judgement on the robustness of the model, such as whether it is suitable for different datasets etc."
   ]
  },
  {
   "cell_type": "code",
   "execution_count": 296,
   "metadata": {
    "collapsed": true
   },
   "outputs": [],
   "source": [
    "B=1000"
   ]
  },
  {
   "cell_type": "code",
   "execution_count": 231,
   "metadata": {
    "collapsed": true
   },
   "outputs": [],
   "source": [
    "def create_B_sample_indices(dataset, B):\n",
    "    m = dataset.shape[0]\n",
    "    n = dataset.shape[1]\n",
    "    result_indices = np.random.choice(m, (B,m))\n",
    "    return result_indices"
   ]
  },
  {
   "cell_type": "code",
   "execution_count": 294,
   "metadata": {
    "collapsed": true
   },
   "outputs": [],
   "source": [
    "def train_B_regressions(dataset, B):\n",
    "    indices_2d = create_B_sample_indices(dataset,B)\n",
    "    m = dataset.shape[0]\n",
    "    n = 2\n",
    "    X = dataset[:,0]\n",
    "    y = dataset[:,2]\n",
    "    theta_init = np.array([60, .01])\n",
    "    result = np.empty((B,n))\n",
    "#     sigmas  = np.empty(B)\n",
    "    i=0\n",
    "    for line in indices_2d:\n",
    "#         print(line)\n",
    "#         print(dataset[line][:,1:-5].shape)\n",
    "#         coefs = regr.coef_\n",
    "#         print(coefs.shape)\n",
    "#         result[i] = np.insert(coefs,0, regr.intercept_, axis=1)\n",
    "        coefs = grad_descent(log_costJ, log_gradJ, X[line], y[line], theta_init, 50000, 1e-5, epsilon=1e-20, max_iters=50000)\n",
    "        result[i] = grad_descent(log_costJ, log_gradJ, X[line], y[line], coefs, 500000, 1e-8, epsilon=1e-20, max_iters=5000)\n",
    "#         sigmas[i] = np.std(regr.predict(dataset[line][:,1:-5])[:,1]-dataset[line][:,-4])\n",
    "#         result = np.append(result, coefs)\n",
    "        i += 1\n",
    "#     return result, sigmas\n",
    "    return result"
   ]
  },
  {
   "cell_type": "code",
   "execution_count": 303,
   "metadata": {
    "collapsed": true
   },
   "outputs": [],
   "source": [
    "def analyze_coefs(coefs):\n",
    "#     for value in range(coefs.shape[1]):\n",
    "#         print('Target {}:'.format(value))\n",
    "    for feature_num in range(coefs.shape[1]):\n",
    "        print('\\tFeature {:d}:\\n\\t\\t95%-Confidence interval: {:.3e} +/- {:.3e}\\n\\t\\tRange: {:.3e} - {:.3e}\\n\\t\\t% of outliers: {:.2f}\\n\\t\\tNumber of outliers: {}'.format(\n",
    "            feature_num+1, \n",
    "            coefs[:,feature_num].mean(),\n",
    "            coefs[:,feature_num].std(),\n",
    "            coefs[:,feature_num].min(), \n",
    "            coefs[:,feature_num].max(), \n",
    "            coefs[:,feature_num][(coefs[:,feature_num]>coefs[:,feature_num].mean()+3*coefs[:,feature_num].std()) | (coefs[:,feature_num]<coefs[:,feature_num].mean()-3*coefs[:,feature_num].std())].size  /B,\n",
    "            coefs[:,feature_num][(coefs[:,feature_num]>coefs[:,feature_num].mean()+3*coefs[:,feature_num].std()) | (coefs[:,feature_num]<coefs[:,feature_num].mean()-3*coefs[:,feature_num].std())].size))"
   ]
  },
  {
   "cell_type": "code",
   "execution_count": 297,
   "metadata": {},
   "outputs": [],
   "source": [
    "coefs = train_B_regressions(data, B)"
   ]
  },
  {
   "cell_type": "code",
   "execution_count": 304,
   "metadata": {},
   "outputs": [
    {
     "name": "stdout",
     "output_type": "stream",
     "text": [
      "\tFeature 1:\n",
      "\t\t95%-Confidence interval: 7.232e+03 +/- 4.079e+02\n",
      "\t\tRange: 6.091e+03 - 8.114e+03\n",
      "\t\t% of outliers: 0.00\n",
      "\t\tNumber of outliers: 0\n",
      "\tFeature 2:\n",
      "\t\t95%-Confidence interval: 2.099e-03 +/- 1.044e-04\n",
      "\t\tRange: 1.888e-03 - 2.432e-03\n",
      "\t\t% of outliers: 0.00\n",
      "\t\tNumber of outliers: 2\n"
     ]
    }
   ],
   "source": [
    "analyze_coefs(coefs)"
   ]
  },
  {
   "cell_type": "code",
   "execution_count": 300,
   "metadata": {
    "collapsed": true
   },
   "outputs": [],
   "source": [
    "np.savetxt('coefs_task2.txt', coefs, delimiter=',')"
   ]
  }
 ],
 "metadata": {
  "kernelspec": {
   "display_name": "Python 3",
   "language": "python",
   "name": "python3"
  },
  "language_info": {
   "codemirror_mode": {
    "name": "ipython",
    "version": 3
   },
   "file_extension": ".py",
   "mimetype": "text/x-python",
   "name": "python",
   "nbconvert_exporter": "python",
   "pygments_lexer": "ipython3",
   "version": "3.6.1"
  }
 },
 "nbformat": 4,
 "nbformat_minor": 2
}
