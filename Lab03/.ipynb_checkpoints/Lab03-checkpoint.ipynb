{
 "cells": [
  {
   "cell_type": "markdown",
   "metadata": {},
   "source": [
    "# Lab 03\n",
    "\n",
    "## Statistical power of the test\n"
   ]
  },
  {
   "cell_type": "markdown",
   "metadata": {},
   "source": [
    "Let's consider the following example.\n",
    "\n",
    "The taxi company claims that the average wait time for a taxi is 7 minutes with standard deviation 3.\n",
    "Their competitor made an independent experiment with 100 participants and discovered that the averate wait time of the experiment was 14. \n",
    "\n",
    "Can the competitor company claim that they have an evidence that the average wait time is bigger than the reported one?"
   ]
  },
  {
   "cell_type": "code",
   "execution_count": 1,
   "metadata": {},
   "outputs": [
    {
     "ename": "ModuleNotFoundError",
     "evalue": "No module named 'plotly'",
     "output_type": "error",
     "traceback": [
      "\u001b[0;31m---------------------------------------------------------------------------\u001b[0m",
      "\u001b[0;31mModuleNotFoundError\u001b[0m                       Traceback (most recent call last)",
      "\u001b[0;32m<ipython-input-1-6d3b5cd09c39>\u001b[0m in \u001b[0;36m<module>\u001b[0;34m()\u001b[0m\n\u001b[0;32m----> 1\u001b[0;31m \u001b[0;32mfrom\u001b[0m \u001b[0mplotly\u001b[0m \u001b[0;32mimport\u001b[0m \u001b[0m__version__\u001b[0m\u001b[0;34m\u001b[0m\u001b[0m\n\u001b[0m\u001b[1;32m      2\u001b[0m \u001b[0;32mfrom\u001b[0m \u001b[0mplotly\u001b[0m\u001b[0;34m.\u001b[0m\u001b[0moffline\u001b[0m \u001b[0;32mimport\u001b[0m \u001b[0minit_notebook_mode\u001b[0m\u001b[0;34m,\u001b[0m \u001b[0mplot\u001b[0m\u001b[0;34m,\u001b[0m \u001b[0miplot\u001b[0m\u001b[0;34m\u001b[0m\u001b[0m\n\u001b[1;32m      3\u001b[0m \u001b[0;32mimport\u001b[0m \u001b[0mnumpy\u001b[0m \u001b[0;32mas\u001b[0m \u001b[0mnp\u001b[0m\u001b[0;34m\u001b[0m\u001b[0m\n\u001b[1;32m      4\u001b[0m \u001b[0;32mfrom\u001b[0m \u001b[0mscipy\u001b[0m\u001b[0;34m.\u001b[0m\u001b[0mstats\u001b[0m \u001b[0;32mimport\u001b[0m \u001b[0mnorm\u001b[0m\u001b[0;34m\u001b[0m\u001b[0m\n\u001b[1;32m      5\u001b[0m \u001b[0;34m\u001b[0m\u001b[0m\n",
      "\u001b[0;31mModuleNotFoundError\u001b[0m: No module named 'plotly'"
     ]
    }
   ],
   "source": [
    "from plotly import __version__\n",
    "from plotly.offline import init_notebook_mode, plot, iplot\n",
    "import numpy as np \n",
    "from scipy.stats import norm\n",
    "\n",
    "init_notebook_mode(connected=True) # inline mode for plotly\n",
    "\n",
    "h0_mean = 7 # H0 hypothesis\n",
    "sigma = 3 # we suppose that we know sigma\n",
    "n = 100 # sample size\n",
    "start = 6; end = 10 # start and end of the considered values of mean\n",
    "sigma_ztest = sigma/np.sqrt(n) # standard deviation of the distribution of means\n",
    "sign_level_arg = norm.ppf(.95, h0_mean, sigma_ztest) # the critical value for the significance level 0.05\n",
    "x1 = np.append(np.arange(start, sign_level_arg, 0.05), [sign_level_arg]) # x argument for the uncolored part of plot\n",
    "x2 = np.arange(sign_level_arg, end, 0.05) # x argument for colored part\n",
    "step_range = np.arange(h0_mean,end,0.1)\n",
    "\n",
    "# creating scatterplot for each of the steps (in slider)\n",
    "data = [dict(visible = False, line=dict(color='00CED1', width=6), hoverinfo='none',\n",
    "            x = x1, y = norm.pdf(x1,step,sigma_ztest), name = 'True') for step in step_range] + [\n",
    "        dict(visible = False, line=dict(color='00CED1', width=6), hoverinfo='none', \n",
    "             fill='tozeroy', showlegend=False,\n",
    "            x = x2, y = norm.pdf(x2,step,sigma_ztest), name='') for step in step_range]+ [\n",
    "        dict(visible = True, line=dict(color='red', width=6), hoverinfo='none',\n",
    "            x = x1, y = norm.pdf(x1,h0_mean,sigma_ztest), name='H0'),\n",
    "        dict(visible = True, line=dict(color='red', width=6), hoverinfo='none',\n",
    "            fill='tozeroy',showlegend=False,\n",
    "            x = x2, y = norm.pdf(x2,h0_mean,sigma_ztest), name = '')]\n",
    "\n",
    "# number of steps\n",
    "size = (len(data)-2)\n",
    "# step 10 is visible\n",
    "data[10]['visible'] = True\n",
    "data[10+size/2]['visible'] = True\n",
    "\n",
    "steps = []\n",
    "\n",
    "for i in range(0, size/2):\n",
    "    step = dict(\n",
    "        method = 'restyle',\n",
    "        args = ['visible', [False] * (len(data)-2) + [True]*2],\n",
    "        label = ['%.2f'%t for t in step_range][i]\n",
    "    )\n",
    "    step['args'][1][i] = True # Toggle i'th trace to \"visible\"\n",
    "    step['args'][1][i+size/2] = True \n",
    "    steps.append(step)\n",
    "\n",
    "sliders = [dict(\n",
    "    active = 10,\n",
    "    currentvalue = {\"prefix\": \"True mean: \"},\n",
    "    pad = {\"t\": 50},\n",
    "    steps = steps\n",
    ")]\n",
    "layout = dict(sliders=sliders, annotations=[\n",
    "        dict(x=1,y=0.01,xref='x',yref='y', text='alpha',showarrow=True,arrowhead=5,ax=-40,ay=-40)\n",
    "    ], xaxis=dict(range=[start,end]))\n",
    "\n",
    "fig = dict(data=data, layout=layout)\n",
    "\n",
    "iplot(fig, filename='Sine Wave Slider')"
   ]
  },
  {
   "cell_type": "markdown",
   "metadata": {},
   "source": [
    "### Exercise 1\n",
    "\n",
    "For the example above plot the power function of the z-test with significance level = 0.05.\n",
    "(Using `matplotlib` not `plotly`) Take the range of x from 7.0 to 10.0."
   ]
  },
  {
   "cell_type": "code",
   "execution_count": null,
   "metadata": {
    "collapsed": true
   },
   "outputs": [],
   "source": [
    "# your solution here"
   ]
  },
  {
   "cell_type": "markdown",
   "metadata": {
    "collapsed": true
   },
   "source": [
    "## Paired vs non-paired test\n",
    "- Independent samples\n",
    "\n",
    "The non-paired t-test is applicable when the samples are independent i.e. they are drawn from *different* populations. The test can check whether the means of two distributions are the same.\n",
    "\n",
    "The standard deviation of the difference between independent sample means is computed using the standard deviations of the means of each sample, i.e. $\\sigma_{\\bar{x}_{1,2}} = \\sqrt{\\sigma_{\\bar{x}_1}+\\sigma_{\\bar{x}_2}} = \\sqrt{\\frac{\\sigma_1^2}{n_1}+\\frac{\\sigma_2^2}{n_2}}$ , where $n_1$ and $n_2$ are sample sizes.\n",
    "\n",
    "Then the $t$-statistics is calculated as following:\n",
    "$$\n",
    "t=\\frac{\\mu_1-\\mu_2}{\\sqrt{\\frac{\\sigma_1^2}{n_1}+\\frac{\\sigma_2^2}{n_2}}}\n",
    "$$\n",
    "The number of degrees of freedom:\n",
    "\n",
    "$df = (n_1-1) + (n_2-1)= n_1+n_2-2$\n",
    "\n",
    "\n",
    "- Dependent samples\n",
    "\n",
    "The paired t-test is applied when the samples are dependent i.e. the variable under the test is the *difference* between 2 samples. These samples can be repeated measures taken on the same subjects. For example, two math tests on the students of the same class.\n",
    "\n",
    "$$t=\\frac{\\mu_{delta}}{\\frac{\\sigma^2}{n}}$$\n",
    "\n",
    "The number of degrees of freedom equals to the number of pairs minus 1.\n",
    "$df = n-1$\n"
   ]
  },
  {
   "cell_type": "markdown",
   "metadata": {},
   "source": [
    "### Statistical test of authorship\n",
    "In 1861 10 letters were published in the New Orleans Daily Crescent signed \"Quintus Curtius Snodgrass\". There was a hypothesis that they were written by Mark Twain. \n",
    "\n",
    "In 1963 American Statistical Association Journal published a study exploring the authorship of those letters.\n",
    "The researchers applied 3 types of methods: visual exploration, $\\chi^2$ test of goodness and two-sampled $t$-test. Let's consider the latter. \n",
    "\n",
    "The tests were limited to 2,3, or 4 letter words (about 60% of the total).\n",
    "There were 2 samples: controls (from real Mark Twain's essays) and studies (from 10 letters of Quintus Curtius Snodgrass - QCS).\n",
    "For each of 2 samples 3 variables were measured: the frequencies of 2,3, and 4 letter words."
   ]
  },
  {
   "cell_type": "markdown",
   "metadata": {},
   "source": [
    "### Exercise 2\n",
    "Test whether there is enough evidence to claim that the 10 letters author is not Mark Twain.\n",
    "\n",
    "Perform 2 sampled t-test and draw conclusions.\n",
    "\n",
    "1. Read csv from data/qcs.csv (with `pandas` or without). The controls has type column equal to 1, studies (QCS samples) - 0.\n",
    "1. Perform 3 tests (for each variable measured).\n",
    "1. Draw conclusions (as a text cell or in comments)."
   ]
  },
  {
   "cell_type": "code",
   "execution_count": null,
   "metadata": {
    "collapsed": true
   },
   "outputs": [],
   "source": [
    "# read the data\n"
   ]
  },
  {
   "cell_type": "code",
   "execution_count": null,
   "metadata": {
    "collapsed": true
   },
   "outputs": [],
   "source": [
    "# perform 3 tests\n"
   ]
  },
  {
   "cell_type": "code",
   "execution_count": null,
   "metadata": {
    "collapsed": true
   },
   "outputs": [],
   "source": [
    "# make conclusions\n"
   ]
  },
  {
   "cell_type": "markdown",
   "metadata": {},
   "source": [
    "### Arachnophobia invesigation\n",
    "\n",
    "Twelve participants were a part of arachnophobia (fear of spiders) research. Their level of anxiety was measured 2 times: 1) when they were exposed to the picture of the spider and 2) to the real spider.\n",
    "\n",
    "The researcher hypothesis was that the real spider will cause more anxiety than the picture. Perform a t-test to check whether we can prove hypothesis with the given data."
   ]
  },
  {
   "cell_type": "markdown",
   "metadata": {},
   "source": [
    "### Exercise 3\n",
    "1. Read the data from 'data/arachn.csv'\n",
    "2. Perform a t-test to test whether real spider causes more anxiety than the picture.\n",
    "3. Report t-statistics and p-value"
   ]
  },
  {
   "cell_type": "code",
   "execution_count": null,
   "metadata": {
    "collapsed": true
   },
   "outputs": [],
   "source": [
    "# your solution here"
   ]
  }
 ],
 "metadata": {
  "kernelspec": {
   "display_name": "Python 3",
   "language": "python",
   "name": "python3"
  },
  "language_info": {
   "codemirror_mode": {
    "name": "ipython",
    "version": 3
   },
   "file_extension": ".py",
   "mimetype": "text/x-python",
   "name": "python",
   "nbconvert_exporter": "python",
   "pygments_lexer": "ipython3",
   "version": "3.6.1"
  }
 },
 "nbformat": 4,
 "nbformat_minor": 2
}
